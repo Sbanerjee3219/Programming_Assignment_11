{
 "cells": [
  {
   "cell_type": "code",
   "execution_count": 128,
   "metadata": {},
   "outputs": [],
   "source": [
    "class Assignment_11:\n",
    "    s=\"This is a data science full stack live mentor led certification program along with full time one-year internship provided by iNeuron intelligence private limited, where you will learn all the stack required to work in data science, data analytics and big data industry including ML ops and cloud infrastructure and real time industry project and product development along with iNeuron product development team and you will contribute on various level with iNeuron\"\n",
    "    \n",
    "    def lenght_words(self):\n",
    "        \"\"\"Write a Python program to find words which are greater than given length k?\n",
    "        \"\"\"\n",
    "        n=int(input(\"your desired length\"))\n",
    "        sentence=Assignment_11.s.split(\" \")\n",
    "        for i in (sentence):\n",
    "            if len(i)>n:\n",
    "                print(i)\n",
    "    def remove_char(self,n):\n",
    "        \"\"\"Write a Python program for removing i-th character from a string?\"\"\"\n",
    "        print(\"Original string\")\n",
    "        print(Assignment_11.s)\n",
    "        print(\"\\nString to be removed: \" + Assignment_11.s[n]+ \"at position \"+ str(n))\n",
    "        x=Assignment_11.s.replace(Assignment_11.s[n],\"\",1)\n",
    "        return x\n",
    "    def split_join(self):\n",
    "        \"\"\"Write a Python program to split and join a string?\"\"\"\n",
    "        new_string=\",\".join(Assignment_11.s.split(\" \"))\n",
    "        return new_string\n",
    "    \n",
    "    def binary_check(self,string):\n",
    "        \"\"\"Write a Python to check if a given string is binary string or not?\"\"\"\n",
    "        for i in string:\n",
    "            if i==str(1) or i==str(0):\n",
    "                continue\n",
    "            else:\n",
    "                return \"not binary\"\n",
    "        else:\n",
    "            return \"binary\"\n",
    "        \n",
    "    def uncommon_word(self,string1,string2):\n",
    "        \"\"\"Write a Python program to find uncommon words from two Strings?\"\"\"\n",
    "        \n",
    "        set_string1=set(string1)\n",
    "        set_string2=set(string2)\n",
    "        print(set_string1)\n",
    "        print(set_string2)\n",
    "        uncommon_words=set_string1.symmetric_difference(set_string2)   \n",
    "        return uncommon_words\n",
    "    \n",
    "    def duplicate_words(self,string):\n",
    "        \"\"\"Write a Python to find all duplicate characters in string?\"\"\"\n",
    "        unique_char=[]\n",
    "        common=[]\n",
    "        for i in string:\n",
    "            if i not in unique_char:\n",
    "                unique_char.append(i)\n",
    "            else:\n",
    "                common.append(i)\n",
    "        return common\n",
    "    \n",
    "    def special_char(self,string):\n",
    "        \"\"\"Write a Python Program to check if a string contains any special character?\"\"\"\n",
    "        import re\n",
    "        characters=re.compile('[@_!#$%^&*()<>?/\\|}{~:]')\n",
    "        if characters.search(string):\n",
    "            return \"it has special characters\"\n",
    "        return \"it does not have any special char\"\n",
    "        \n",
    "        \n",
    "            \n",
    "            \n",
    "            "
   ]
  },
  {
   "cell_type": "code",
   "execution_count": 129,
   "metadata": {},
   "outputs": [],
   "source": [
    "soumyadeep=Assignment_11()"
   ]
  },
  {
   "cell_type": "code",
   "execution_count": 82,
   "metadata": {
    "scrolled": true
   },
   "outputs": [
    {
     "name": "stdout",
     "output_type": "stream",
     "text": [
      "your desired length5\n",
      "science\n",
      "mentor\n",
      "certification\n",
      "program\n",
      "one-year\n",
      "internship\n",
      "provided\n",
      "iNeuron\n",
      "intelligence\n",
      "private\n",
      "limited,\n",
      "required\n",
      "science,\n",
      "analytics\n",
      "industry\n",
      "including\n",
      "infrastructure\n",
      "industry\n",
      "project\n",
      "product\n",
      "development\n",
      "iNeuron\n",
      "product\n",
      "development\n",
      "contribute\n",
      "various\n",
      "iNeuron\n"
     ]
    }
   ],
   "source": [
    "soumyadeep.lenght_words()"
   ]
  },
  {
   "cell_type": "code",
   "execution_count": 83,
   "metadata": {
    "scrolled": true
   },
   "outputs": [
    {
     "name": "stdout",
     "output_type": "stream",
     "text": [
      "Original string\n",
      "This is a data science full stack live mentor led certification program along with full time one-year internship provided by iNeuron intelligence private limited, where you will learn all the stack required to work in data science, data analytics and big data industry including ML ops and cloud infrastructure and real time industry project and product development along with iNeuron product development team and you will contribute on various level with iNeuron\n",
      "\n",
      "String to be removed:  at position 4\n"
     ]
    },
    {
     "data": {
      "text/plain": [
       "'Thisis a data science full stack live mentor led certification program along with full time one-year internship provided by iNeuron intelligence private limited, where you will learn all the stack required to work in data science, data analytics and big data industry including ML ops and cloud infrastructure and real time industry project and product development along with iNeuron product development team and you will contribute on various level with iNeuron'"
      ]
     },
     "execution_count": 83,
     "metadata": {},
     "output_type": "execute_result"
    }
   ],
   "source": [
    "soumyadeep.remove_char(4)"
   ]
  },
  {
   "cell_type": "code",
   "execution_count": 84,
   "metadata": {},
   "outputs": [
    {
     "data": {
      "text/plain": [
       "'This,is,a,data,science,full,stack,live,mentor,led,certification,program,along,with,full,time,one-year,internship,provided,by,iNeuron,intelligence,private,limited,,where,you,will,learn,all,the,stack,required,to,work,in,data,science,,data,analytics,and,big,data,industry,including,ML,ops,and,cloud,infrastructure,and,real,time,industry,project,and,product,development,along,with,iNeuron,product,development,team,and,you,will,contribute,on,various,level,with,iNeuron'"
      ]
     },
     "execution_count": 84,
     "metadata": {},
     "output_type": "execute_result"
    }
   ],
   "source": [
    "soumyadeep.split_join()"
   ]
  },
  {
   "cell_type": "code",
   "execution_count": 85,
   "metadata": {
    "scrolled": true
   },
   "outputs": [
    {
     "data": {
      "text/plain": [
       "'not binary'"
      ]
     },
     "execution_count": 85,
     "metadata": {},
     "output_type": "execute_result"
    }
   ],
   "source": [
    "soumyadeep.binary_check(\"asdfasfd010@1254801478950101010\")"
   ]
  },
  {
   "cell_type": "code",
   "execution_count": 86,
   "metadata": {
    "scrolled": true
   },
   "outputs": [
    {
     "data": {
      "text/plain": [
       "'binary'"
      ]
     },
     "execution_count": 86,
     "metadata": {},
     "output_type": "execute_result"
    }
   ],
   "source": [
    "soumyadeep.binary_check(\"101010101010100\")"
   ]
  },
  {
   "cell_type": "code",
   "execution_count": 130,
   "metadata": {},
   "outputs": [
    {
     "name": "stdout",
     "output_type": "stream",
     "text": [
      "{'g', 'd', 'h', 'f', 'a', 's'}\n",
      "{'i', 'd', 'h', 'y', 'j', 'f', 'x', 'z', 'a', 's', 'b'}\n"
     ]
    },
    {
     "data": {
      "text/plain": [
       "{'b', 'g', 'i', 'j', 'x', 'y', 'z'}"
      ]
     },
     "execution_count": 130,
     "metadata": {},
     "output_type": "execute_result"
    }
   ],
   "source": [
    "soumyadeep.uncommon_word(\"asdhahfasgdfas\",\"ashafdxyzjisfasb\")"
   ]
  },
  {
   "cell_type": "code",
   "execution_count": 131,
   "metadata": {},
   "outputs": [
    {
     "data": {
      "text/plain": [
       "['a', 's', 'f', 'a', 's']"
      ]
     },
     "execution_count": 131,
     "metadata": {},
     "output_type": "execute_result"
    }
   ],
   "source": [
    "soumyadeep.duplicate_words(\"ashafdxyzjisfasb\")"
   ]
  },
  {
   "cell_type": "code",
   "execution_count": 132,
   "metadata": {
    "scrolled": true
   },
   "outputs": [
    {
     "data": {
      "text/plain": [
       "'it has special characters'"
      ]
     },
     "execution_count": 132,
     "metadata": {},
     "output_type": "execute_result"
    }
   ],
   "source": [
    "soumyadeep.special_char(\"asdfasfd010@1254801478950101010\")"
   ]
  },
  {
   "cell_type": "code",
   "execution_count": 133,
   "metadata": {},
   "outputs": [
    {
     "data": {
      "text/plain": [
       "'it does not have any special char'"
      ]
     },
     "execution_count": 133,
     "metadata": {},
     "output_type": "execute_result"
    }
   ],
   "source": [
    "soumyadeep.special_char(\"asdfasfd0101254801478950101010\")"
   ]
  },
  {
   "cell_type": "code",
   "execution_count": null,
   "metadata": {},
   "outputs": [],
   "source": []
  }
 ],
 "metadata": {
  "kernelspec": {
   "display_name": "Python 3",
   "language": "python",
   "name": "python3"
  },
  "language_info": {
   "codemirror_mode": {
    "name": "ipython",
    "version": 3
   },
   "file_extension": ".py",
   "mimetype": "text/x-python",
   "name": "python",
   "nbconvert_exporter": "python",
   "pygments_lexer": "ipython3",
   "version": "3.8.3"
  }
 },
 "nbformat": 4,
 "nbformat_minor": 4
}
